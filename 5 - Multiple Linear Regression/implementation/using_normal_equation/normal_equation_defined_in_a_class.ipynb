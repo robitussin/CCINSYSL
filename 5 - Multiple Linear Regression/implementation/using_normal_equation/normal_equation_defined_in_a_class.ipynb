{
 "cells": [
  {
   "cell_type": "code",
   "execution_count": 185,
   "metadata": {},
   "outputs": [],
   "source": [
    "import numpy as np"
   ]
  },
  {
   "cell_type": "code",
   "execution_count": 186,
   "metadata": {},
   "outputs": [],
   "source": [
    "class LinearRegression:\n",
    "    def __init__(self):\n",
    "        pass\n",
    "\n",
    "    def __compute(self, x, y):\n",
    "        try:\n",
    "            # one line code\n",
    "            self.__thetas = np.dot(\n",
    "                np.dot(np.linalg.inv(np.dot(x.T, x)), x.T), y)\n",
    "        except Exception as e:\n",
    "            raise e\n",
    "\n",
    "    def fit(self, x, y):\n",
    "        x = np.array(x)\n",
    "        ones_ = np.ones(x.shape[0])\n",
    "        x = np.c_[ones_, x]\n",
    "        y = np.array(y)\n",
    "        self.__compute(x, y)\n",
    "\n",
    "    @property\n",
    "    def coef_(self):\n",
    "        return self.__thetas[0]\n",
    "\n",
    "    @property\n",
    "    def intercept_(self):\n",
    "        return self.__thetas[1:]\n",
    "\n",
    "    def predict(self, x):\n",
    "        try:\n",
    "            x = np.array(x)\n",
    "            ones_ = np.ones(x.shape[0])\n",
    "            x = np.c_[ones_, x]\n",
    "            result = np.dot(x, self.__thetas)\n",
    "            return result\n",
    "        except Exception as e:\n",
    "            raise e"
   ]
  },
  {
   "cell_type": "code",
   "execution_count": 187,
   "metadata": {},
   "outputs": [],
   "source": [
    "import pandas as pd\n",
    "# datasets\n",
    "\n",
    "X = [[23, 3, 8], [15, 2, 7], [24, 4, 9], [29, 5, 4], [31, 7, 6], [25, 3, 10]]\n",
    "y = [6562, 4569, 6897, 7562, 8234, 7485]\n"
   ]
  },
  {
   "cell_type": "code",
   "execution_count": 188,
   "metadata": {},
   "outputs": [
    {
     "name": "stdout",
     "output_type": "stream",
     "text": [
      "-63.42734749866759\n",
      "[255.53666895 -57.18882796 124.95921864]\n",
      "[7403.01507882]\n"
     ]
    }
   ],
   "source": [
    "# testing the model...\n",
    "lr = LinearRegression()\n",
    "lr.fit(X, y)\n",
    "print(lr.coef_)\n",
    "print(lr.intercept_)\n",
    "print(lr.predict([[25, 3, 10]]))"
   ]
  },
  {
   "cell_type": "code",
   "execution_count": 189,
   "metadata": {},
   "outputs": [
    {
     "name": "stdout",
     "output_type": "stream",
     "text": [
      "-63.42734749866759\n",
      "[255.53666895 -57.18882796 124.95921864]\n",
      "[7403.01507882]\n"
     ]
    }
   ],
   "source": [
    "# testing the model...\n",
    "lr = LinearRegression()\n",
    "lr.fit(X, y)\n",
    "print(lr.coef_)\n",
    "print(lr.intercept_)\n",
    "print(lr.predict([[25, 3, 10]]))"
   ]
  }
 ],
 "metadata": {
  "kernelspec": {
   "display_name": "Python 3",
   "language": "python",
   "name": "python3"
  },
  "language_info": {
   "codemirror_mode": {
    "name": "ipython",
    "version": 3
   },
   "file_extension": ".py",
   "mimetype": "text/x-python",
   "name": "python",
   "nbconvert_exporter": "python",
   "pygments_lexer": "ipython3",
   "version": "3.9.13"
  },
  "orig_nbformat": 4
 },
 "nbformat": 4,
 "nbformat_minor": 2
}
