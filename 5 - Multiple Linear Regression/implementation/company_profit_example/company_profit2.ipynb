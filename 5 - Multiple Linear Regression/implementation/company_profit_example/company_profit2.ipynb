{
  "cells": [
    {
      "cell_type": "markdown",
      "metadata": {
        "id": "CazISR8X_HUG"
      },
      "source": [
        "# Multiple Linear Regression\n",
        "\n",
        "> A tutorial on How to use Multiple Linear Regression.\n",
        "\n",
        "- toc: true\n",
        "- badges: true\n",
        "- comments: true\n",
        "- categories: [jupyter, Regression]"
      ]
    },
    {
      "cell_type": "markdown",
      "metadata": {
        "id": "nwVGWFfcUz4l"
      },
      "source": [
        "## 0.Data Preprocessing"
      ]
    },
    {
      "cell_type": "markdown",
      "metadata": {
        "id": "pOyqYHTk_Q57"
      },
      "source": [
        "### 0.1 Importing the libraries"
      ]
    },
    {
      "cell_type": "code",
      "execution_count": 1,
      "metadata": {
        "id": "T_YHJjnD_Tja"
      },
      "outputs": [],
      "source": [
        "import numpy as np\n",
        "import matplotlib.pyplot as plt\n",
        "import pandas as pd"
      ]
    },
    {
      "cell_type": "markdown",
      "metadata": {
        "id": "vgC61-ah_WIz"
      },
      "source": [
        "### 0.2 Importing the dataset"
      ]
    },
    {
      "cell_type": "code",
      "execution_count": 2,
      "metadata": {
        "id": "UrxyEKGn_ez7",
        "outputId": "ad877a1d-e79b-42fa-9636-9903702c6d23"
      },
      "outputs": [
        {
          "data": {
            "text/html": [
              "<div>\n",
              "<style scoped>\n",
              "    .dataframe tbody tr th:only-of-type {\n",
              "        vertical-align: middle;\n",
              "    }\n",
              "\n",
              "    .dataframe tbody tr th {\n",
              "        vertical-align: top;\n",
              "    }\n",
              "\n",
              "    .dataframe thead th {\n",
              "        text-align: right;\n",
              "    }\n",
              "</style>\n",
              "<table border=\"1\" class=\"dataframe\">\n",
              "  <thead>\n",
              "    <tr style=\"text-align: right;\">\n",
              "      <th></th>\n",
              "      <th>R&amp;D Spend</th>\n",
              "      <th>Administration</th>\n",
              "      <th>Marketing Spend</th>\n",
              "      <th>State</th>\n",
              "      <th>Profit</th>\n",
              "    </tr>\n",
              "  </thead>\n",
              "  <tbody>\n",
              "    <tr>\n",
              "      <th>0</th>\n",
              "      <td>165349.20</td>\n",
              "      <td>136897.800</td>\n",
              "      <td>471784.1000</td>\n",
              "      <td>New York</td>\n",
              "      <td>192261.83000</td>\n",
              "    </tr>\n",
              "    <tr>\n",
              "      <th>1</th>\n",
              "      <td>162597.70</td>\n",
              "      <td>151377.590</td>\n",
              "      <td>443898.5300</td>\n",
              "      <td>California</td>\n",
              "      <td>191792.06000</td>\n",
              "    </tr>\n",
              "    <tr>\n",
              "      <th>2</th>\n",
              "      <td>153441.51</td>\n",
              "      <td>101145.550</td>\n",
              "      <td>407934.5400</td>\n",
              "      <td>Florida</td>\n",
              "      <td>191050.39000</td>\n",
              "    </tr>\n",
              "    <tr>\n",
              "      <th>3</th>\n",
              "      <td>144372.41</td>\n",
              "      <td>118671.850</td>\n",
              "      <td>383199.6200</td>\n",
              "      <td>New York</td>\n",
              "      <td>182901.99000</td>\n",
              "    </tr>\n",
              "    <tr>\n",
              "      <th>4</th>\n",
              "      <td>142107.34</td>\n",
              "      <td>91391.770</td>\n",
              "      <td>366168.4200</td>\n",
              "      <td>Florida</td>\n",
              "      <td>166187.94000</td>\n",
              "    </tr>\n",
              "    <tr>\n",
              "      <th>...</th>\n",
              "      <td>...</td>\n",
              "      <td>...</td>\n",
              "      <td>...</td>\n",
              "      <td>...</td>\n",
              "      <td>...</td>\n",
              "    </tr>\n",
              "    <tr>\n",
              "      <th>995</th>\n",
              "      <td>54135.00</td>\n",
              "      <td>118451.999</td>\n",
              "      <td>173232.6695</td>\n",
              "      <td>California</td>\n",
              "      <td>95279.96251</td>\n",
              "    </tr>\n",
              "    <tr>\n",
              "      <th>996</th>\n",
              "      <td>134970.00</td>\n",
              "      <td>130390.080</td>\n",
              "      <td>329204.0228</td>\n",
              "      <td>California</td>\n",
              "      <td>164336.60550</td>\n",
              "    </tr>\n",
              "    <tr>\n",
              "      <th>997</th>\n",
              "      <td>100275.47</td>\n",
              "      <td>241926.310</td>\n",
              "      <td>227142.8200</td>\n",
              "      <td>California</td>\n",
              "      <td>413956.48000</td>\n",
              "    </tr>\n",
              "    <tr>\n",
              "      <th>998</th>\n",
              "      <td>128456.23</td>\n",
              "      <td>321652.140</td>\n",
              "      <td>281692.3200</td>\n",
              "      <td>California</td>\n",
              "      <td>333962.19000</td>\n",
              "    </tr>\n",
              "    <tr>\n",
              "      <th>999</th>\n",
              "      <td>161181.72</td>\n",
              "      <td>270939.860</td>\n",
              "      <td>295442.1700</td>\n",
              "      <td>New York</td>\n",
              "      <td>476485.43000</td>\n",
              "    </tr>\n",
              "  </tbody>\n",
              "</table>\n",
              "<p>1000 rows × 5 columns</p>\n",
              "</div>"
            ],
            "text/plain": [
              "     R&D Spend  Administration  Marketing Spend       State        Profit\n",
              "0    165349.20      136897.800      471784.1000    New York  192261.83000\n",
              "1    162597.70      151377.590      443898.5300  California  191792.06000\n",
              "2    153441.51      101145.550      407934.5400     Florida  191050.39000\n",
              "3    144372.41      118671.850      383199.6200    New York  182901.99000\n",
              "4    142107.34       91391.770      366168.4200     Florida  166187.94000\n",
              "..         ...             ...              ...         ...           ...\n",
              "995   54135.00      118451.999      173232.6695  California   95279.96251\n",
              "996  134970.00      130390.080      329204.0228  California  164336.60550\n",
              "997  100275.47      241926.310      227142.8200  California  413956.48000\n",
              "998  128456.23      321652.140      281692.3200  California  333962.19000\n",
              "999  161181.72      270939.860      295442.1700    New York  476485.43000\n",
              "\n",
              "[1000 rows x 5 columns]"
            ]
          },
          "execution_count": 2,
          "metadata": {},
          "output_type": "execute_result"
        }
      ],
      "source": [
        "dataset = pd.read_csv('data.csv')\n",
        "dataset"
      ]
    },
    {
      "cell_type": "markdown",
      "metadata": {
        "id": "_mjAqycsUz4o"
      },
      "source": [
        "### 0.3 Check if any null value"
      ]
    },
    {
      "cell_type": "code",
      "execution_count": 3,
      "metadata": {
        "id": "pEQFPAPrUz4o",
        "outputId": "321dc4e7-d273-4910-c6a3-8685e68c794f"
      },
      "outputs": [
        {
          "data": {
            "text/plain": [
              "R&D Spend          0\n",
              "Administration     0\n",
              "Marketing Spend    0\n",
              "State              0\n",
              "Profit             0\n",
              "dtype: int64"
            ]
          },
          "execution_count": 3,
          "metadata": {},
          "output_type": "execute_result"
        }
      ],
      "source": [
        "dataset.isna().sum()"
      ]
    },
    {
      "cell_type": "code",
      "execution_count": 4,
      "metadata": {
        "id": "BOQdapWHUz4p",
        "outputId": "6b6841c4-9c1b-4802-92a9-2cddcc7ef603"
      },
      "outputs": [
        {
          "name": "stdout",
          "output_type": "stream",
          "text": [
            "<class 'pandas.core.frame.DataFrame'>\n",
            "RangeIndex: 1000 entries, 0 to 999\n",
            "Data columns (total 5 columns):\n",
            " #   Column           Non-Null Count  Dtype  \n",
            "---  ------           --------------  -----  \n",
            " 0   R&D Spend        1000 non-null   float64\n",
            " 1   Administration   1000 non-null   float64\n",
            " 2   Marketing Spend  1000 non-null   float64\n",
            " 3   State            1000 non-null   object \n",
            " 4   Profit           1000 non-null   float64\n",
            "dtypes: float64(4), object(1)\n",
            "memory usage: 39.2+ KB\n"
          ]
        }
      ],
      "source": [
        "dataset.info()"
      ]
    },
    {
      "cell_type": "code",
      "execution_count": 5,
      "metadata": {
        "id": "GOB3QhV9B5kD"
      },
      "outputs": [],
      "source": [
        "### 0.4 Split into X & y"
      ]
    },
    {
      "cell_type": "code",
      "execution_count": 6,
      "metadata": {
        "id": "iM9P0cyAUz4p",
        "outputId": "9b6c0d1a-1a50-4195-dde0-394a17c97fca"
      },
      "outputs": [
        {
          "data": {
            "text/html": [
              "<div>\n",
              "<style scoped>\n",
              "    .dataframe tbody tr th:only-of-type {\n",
              "        vertical-align: middle;\n",
              "    }\n",
              "\n",
              "    .dataframe tbody tr th {\n",
              "        vertical-align: top;\n",
              "    }\n",
              "\n",
              "    .dataframe thead th {\n",
              "        text-align: right;\n",
              "    }\n",
              "</style>\n",
              "<table border=\"1\" class=\"dataframe\">\n",
              "  <thead>\n",
              "    <tr style=\"text-align: right;\">\n",
              "      <th></th>\n",
              "      <th>R&amp;D Spend</th>\n",
              "      <th>Administration</th>\n",
              "      <th>Marketing Spend</th>\n",
              "      <th>State</th>\n",
              "    </tr>\n",
              "  </thead>\n",
              "  <tbody>\n",
              "    <tr>\n",
              "      <th>0</th>\n",
              "      <td>165349.20</td>\n",
              "      <td>136897.800</td>\n",
              "      <td>471784.1000</td>\n",
              "      <td>New York</td>\n",
              "    </tr>\n",
              "    <tr>\n",
              "      <th>1</th>\n",
              "      <td>162597.70</td>\n",
              "      <td>151377.590</td>\n",
              "      <td>443898.5300</td>\n",
              "      <td>California</td>\n",
              "    </tr>\n",
              "    <tr>\n",
              "      <th>2</th>\n",
              "      <td>153441.51</td>\n",
              "      <td>101145.550</td>\n",
              "      <td>407934.5400</td>\n",
              "      <td>Florida</td>\n",
              "    </tr>\n",
              "    <tr>\n",
              "      <th>3</th>\n",
              "      <td>144372.41</td>\n",
              "      <td>118671.850</td>\n",
              "      <td>383199.6200</td>\n",
              "      <td>New York</td>\n",
              "    </tr>\n",
              "    <tr>\n",
              "      <th>4</th>\n",
              "      <td>142107.34</td>\n",
              "      <td>91391.770</td>\n",
              "      <td>366168.4200</td>\n",
              "      <td>Florida</td>\n",
              "    </tr>\n",
              "    <tr>\n",
              "      <th>...</th>\n",
              "      <td>...</td>\n",
              "      <td>...</td>\n",
              "      <td>...</td>\n",
              "      <td>...</td>\n",
              "    </tr>\n",
              "    <tr>\n",
              "      <th>995</th>\n",
              "      <td>54135.00</td>\n",
              "      <td>118451.999</td>\n",
              "      <td>173232.6695</td>\n",
              "      <td>California</td>\n",
              "    </tr>\n",
              "    <tr>\n",
              "      <th>996</th>\n",
              "      <td>134970.00</td>\n",
              "      <td>130390.080</td>\n",
              "      <td>329204.0228</td>\n",
              "      <td>California</td>\n",
              "    </tr>\n",
              "    <tr>\n",
              "      <th>997</th>\n",
              "      <td>100275.47</td>\n",
              "      <td>241926.310</td>\n",
              "      <td>227142.8200</td>\n",
              "      <td>California</td>\n",
              "    </tr>\n",
              "    <tr>\n",
              "      <th>998</th>\n",
              "      <td>128456.23</td>\n",
              "      <td>321652.140</td>\n",
              "      <td>281692.3200</td>\n",
              "      <td>California</td>\n",
              "    </tr>\n",
              "    <tr>\n",
              "      <th>999</th>\n",
              "      <td>161181.72</td>\n",
              "      <td>270939.860</td>\n",
              "      <td>295442.1700</td>\n",
              "      <td>New York</td>\n",
              "    </tr>\n",
              "  </tbody>\n",
              "</table>\n",
              "<p>1000 rows × 4 columns</p>\n",
              "</div>"
            ],
            "text/plain": [
              "     R&D Spend  Administration  Marketing Spend       State\n",
              "0    165349.20      136897.800      471784.1000    New York\n",
              "1    162597.70      151377.590      443898.5300  California\n",
              "2    153441.51      101145.550      407934.5400     Florida\n",
              "3    144372.41      118671.850      383199.6200    New York\n",
              "4    142107.34       91391.770      366168.4200     Florida\n",
              "..         ...             ...              ...         ...\n",
              "995   54135.00      118451.999      173232.6695  California\n",
              "996  134970.00      130390.080      329204.0228  California\n",
              "997  100275.47      241926.310      227142.8200  California\n",
              "998  128456.23      321652.140      281692.3200  California\n",
              "999  161181.72      270939.860      295442.1700    New York\n",
              "\n",
              "[1000 rows x 4 columns]"
            ]
          },
          "execution_count": 6,
          "metadata": {},
          "output_type": "execute_result"
        }
      ],
      "source": [
        "X = dataset.drop('Profit', axis=1)\n",
        "X"
      ]
    },
    {
      "cell_type": "code",
      "execution_count": 7,
      "metadata": {
        "id": "8eT6U7JlUz4p",
        "outputId": "7ad6e99d-2b9d-4928-e4e3-864065e22325"
      },
      "outputs": [
        {
          "data": {
            "text/plain": [
              "0      192261.83000\n",
              "1      191792.06000\n",
              "2      191050.39000\n",
              "3      182901.99000\n",
              "4      166187.94000\n",
              "           ...     \n",
              "995     95279.96251\n",
              "996    164336.60550\n",
              "997    413956.48000\n",
              "998    333962.19000\n",
              "999    476485.43000\n",
              "Name: Profit, Length: 1000, dtype: float64"
            ]
          },
          "execution_count": 7,
          "metadata": {},
          "output_type": "execute_result"
        }
      ],
      "source": [
        "y = dataset['Profit']\n",
        "y"
      ]
    },
    {
      "cell_type": "markdown",
      "metadata": {
        "id": "VadrvE7s_lS9"
      },
      "source": [
        "### 0.5 Encoding categorical data"
      ]
    },
    {
      "cell_type": "code",
      "execution_count": 8,
      "metadata": {
        "id": "wV3fD1mbAvsh"
      },
      "outputs": [
        {
          "ename": "ModuleNotFoundError",
          "evalue": "No module named 'sklearn'",
          "output_type": "error",
          "traceback": [
            "\u001b[1;31m---------------------------------------------------------------------------\u001b[0m",
            "\u001b[1;31mModuleNotFoundError\u001b[0m                       Traceback (most recent call last)",
            "\u001b[1;32mc:\\Users\\SLY\\Documents\\National University\\Faculty Documents\\SUBJECTS\\Introduction to Intelligent Systems\\CCINSYSL\\5 - Multiple Linear Regression\\implementation\\company_profit_example\\company_profit2.ipynb Cell 14\u001b[0m line \u001b[0;36m1\n\u001b[1;32m----> <a href='vscode-notebook-cell:/c%3A/Users/SLY/Documents/National%20University/Faculty%20Documents/SUBJECTS/Introduction%20to%20Intelligent%20Systems/CCINSYSL/5%20-%20Multiple%20Linear%20Regression/implementation/company_profit_example/company_profit2.ipynb#X16sZmlsZQ%3D%3D?line=0'>1</a>\u001b[0m \u001b[39mfrom\u001b[39;00m \u001b[39msklearn\u001b[39;00m\u001b[39m.\u001b[39;00m\u001b[39mpreprocessing\u001b[39;00m \u001b[39mimport\u001b[39;00m OneHotEncoder\n\u001b[0;32m      <a href='vscode-notebook-cell:/c%3A/Users/SLY/Documents/National%20University/Faculty%20Documents/SUBJECTS/Introduction%20to%20Intelligent%20Systems/CCINSYSL/5%20-%20Multiple%20Linear%20Regression/implementation/company_profit_example/company_profit2.ipynb#X16sZmlsZQ%3D%3D?line=1'>2</a>\u001b[0m \u001b[39mfrom\u001b[39;00m \u001b[39msklearn\u001b[39;00m\u001b[39m.\u001b[39;00m\u001b[39mcompose\u001b[39;00m \u001b[39mimport\u001b[39;00m ColumnTransformer\n\u001b[0;32m      <a href='vscode-notebook-cell:/c%3A/Users/SLY/Documents/National%20University/Faculty%20Documents/SUBJECTS/Introduction%20to%20Intelligent%20Systems/CCINSYSL/5%20-%20Multiple%20Linear%20Regression/implementation/company_profit_example/company_profit2.ipynb#X16sZmlsZQ%3D%3D?line=3'>4</a>\u001b[0m categorical_feature \u001b[39m=\u001b[39m [\u001b[39m\"\u001b[39m\u001b[39mState\u001b[39m\u001b[39m\"\u001b[39m]\n",
            "\u001b[1;31mModuleNotFoundError\u001b[0m: No module named 'sklearn'"
          ]
        }
      ],
      "source": [
        "from sklearn.preprocessing import OneHotEncoder\n",
        "from sklearn.compose import ColumnTransformer\n",
        "\n",
        "categorical_feature = [\"State\"]\n",
        "one_hot = OneHotEncoder()\n",
        "transformer = ColumnTransformer([(\"one_hot\",\n",
        "                                  one_hot,\n",
        "                                  categorical_feature)],\n",
        "                                 remainder=\"passthrough\")\n",
        "\n",
        "transformed_X = transformer.fit_transform(X)"
      ]
    },
    {
      "cell_type": "code",
      "execution_count": null,
      "metadata": {
        "colab": {
          "base_uri": "https://localhost:8080/",
          "height": 857
        },
        "id": "4ym3HdYeCGYG",
        "outputId": "ce09e670-cf06-4a1c-f5b0-89422aae0496"
      },
      "outputs": [
        {
          "data": {
            "text/html": [
              "<div>\n",
              "<style scoped>\n",
              "    .dataframe tbody tr th:only-of-type {\n",
              "        vertical-align: middle;\n",
              "    }\n",
              "\n",
              "    .dataframe tbody tr th {\n",
              "        vertical-align: top;\n",
              "    }\n",
              "\n",
              "    .dataframe thead th {\n",
              "        text-align: right;\n",
              "    }\n",
              "</style>\n",
              "<table border=\"1\" class=\"dataframe\">\n",
              "  <thead>\n",
              "    <tr style=\"text-align: right;\">\n",
              "      <th></th>\n",
              "      <th>0</th>\n",
              "      <th>1</th>\n",
              "      <th>2</th>\n",
              "      <th>3</th>\n",
              "      <th>4</th>\n",
              "      <th>5</th>\n",
              "    </tr>\n",
              "  </thead>\n",
              "  <tbody>\n",
              "    <tr>\n",
              "      <th>0</th>\n",
              "      <td>0.0</td>\n",
              "      <td>0.0</td>\n",
              "      <td>1.0</td>\n",
              "      <td>165349.20</td>\n",
              "      <td>136897.80</td>\n",
              "      <td>471784.10</td>\n",
              "    </tr>\n",
              "    <tr>\n",
              "      <th>1</th>\n",
              "      <td>1.0</td>\n",
              "      <td>0.0</td>\n",
              "      <td>0.0</td>\n",
              "      <td>162597.70</td>\n",
              "      <td>151377.59</td>\n",
              "      <td>443898.53</td>\n",
              "    </tr>\n",
              "    <tr>\n",
              "      <th>2</th>\n",
              "      <td>0.0</td>\n",
              "      <td>1.0</td>\n",
              "      <td>0.0</td>\n",
              "      <td>153441.51</td>\n",
              "      <td>101145.55</td>\n",
              "      <td>407934.54</td>\n",
              "    </tr>\n",
              "    <tr>\n",
              "      <th>3</th>\n",
              "      <td>0.0</td>\n",
              "      <td>0.0</td>\n",
              "      <td>1.0</td>\n",
              "      <td>144372.41</td>\n",
              "      <td>118671.85</td>\n",
              "      <td>383199.62</td>\n",
              "    </tr>\n",
              "    <tr>\n",
              "      <th>4</th>\n",
              "      <td>0.0</td>\n",
              "      <td>1.0</td>\n",
              "      <td>0.0</td>\n",
              "      <td>142107.34</td>\n",
              "      <td>91391.77</td>\n",
              "      <td>366168.42</td>\n",
              "    </tr>\n",
              "  </tbody>\n",
              "</table>\n",
              "</div>"
            ],
            "text/plain": [
              "     0    1    2          3          4          5\n",
              "0  0.0  0.0  1.0  165349.20  136897.80  471784.10\n",
              "1  1.0  0.0  0.0  162597.70  151377.59  443898.53\n",
              "2  0.0  1.0  0.0  153441.51  101145.55  407934.54\n",
              "3  0.0  0.0  1.0  144372.41  118671.85  383199.62\n",
              "4  0.0  1.0  0.0  142107.34   91391.77  366168.42"
            ]
          },
          "execution_count": 8,
          "metadata": {},
          "output_type": "execute_result"
        }
      ],
      "source": [
        "pd.DataFrame(transformed_X).head()"
      ]
    },
    {
      "cell_type": "markdown",
      "metadata": {
        "id": "WemVnqgeA70k"
      },
      "source": [
        "### 0.6 Splitting the dataset into the Training set and Test set"
      ]
    },
    {
      "cell_type": "code",
      "execution_count": null,
      "metadata": {
        "id": "Kb_v_ae-A-20"
      },
      "outputs": [],
      "source": [
        "from sklearn.model_selection import train_test_split\n",
        "X_train, X_test, y_train, y_test = train_test_split(transformed_X, y, test_size = 0.25, random_state = 2509)"
      ]
    },
    {
      "cell_type": "markdown",
      "metadata": {
        "id": "k-McZVsQBINc"
      },
      "source": [
        "## 1. Training the Multiple Linear Regression model on the Training set"
      ]
    },
    {
      "cell_type": "code",
      "execution_count": null,
      "metadata": {
        "colab": {
          "base_uri": "https://localhost:8080/",
          "height": 34
        },
        "id": "ywPjx0L1BMiD",
        "outputId": "099836bc-4d85-4b4f-a488-093faf02e8cb"
      },
      "outputs": [
        {
          "data": {
            "text/plain": [
              "LinearRegression()"
            ]
          },
          "execution_count": 10,
          "metadata": {},
          "output_type": "execute_result"
        }
      ],
      "source": [
        "from sklearn.linear_model import LinearRegression\n",
        "regressor = LinearRegression()\n",
        "regressor.fit(X_train, y_train)"
      ]
    },
    {
      "cell_type": "markdown",
      "metadata": {
        "id": "XaUFzq7XUz4r"
      },
      "source": [
        "### 1.1 Score"
      ]
    },
    {
      "cell_type": "code",
      "execution_count": null,
      "metadata": {
        "id": "HN6qnzfSUz4r",
        "outputId": "fd7593fd-815c-4822-9bd6-56a97d91c12f"
      },
      "outputs": [
        {
          "data": {
            "text/plain": [
              "0.9840064291741994"
            ]
          },
          "execution_count": 11,
          "metadata": {},
          "output_type": "execute_result"
        }
      ],
      "source": [
        "regressor.score(X_test,y_test)"
      ]
    },
    {
      "cell_type": "markdown",
      "metadata": {
        "id": "xNkXL1YQBiBT"
      },
      "source": [
        "## 2. Predicting the Test set results"
      ]
    },
    {
      "cell_type": "code",
      "execution_count": null,
      "metadata": {
        "id": "TQKmwvtdBkyb"
      },
      "outputs": [],
      "source": [
        "y_pred = regressor.predict(X_test)"
      ]
    },
    {
      "cell_type": "code",
      "execution_count": null,
      "metadata": {
        "id": "B5knHc6iUz4r"
      },
      "outputs": [],
      "source": [
        "d = {'y_pred': y_pred, 'y_test': y_test}"
      ]
    },
    {
      "cell_type": "markdown",
      "metadata": {
        "id": "B5rWT0QkUz4r"
      },
      "source": [
        "### 2.1 Compare Predicted results"
      ]
    },
    {
      "cell_type": "code",
      "execution_count": null,
      "metadata": {
        "id": "E89T50-kUz4s",
        "outputId": "e751ed62-0de6-4322-bdc4-842fdbe2ffe8"
      },
      "outputs": [
        {
          "data": {
            "text/html": [
              "<div>\n",
              "<style scoped>\n",
              "    .dataframe tbody tr th:only-of-type {\n",
              "        vertical-align: middle;\n",
              "    }\n",
              "\n",
              "    .dataframe tbody tr th {\n",
              "        vertical-align: top;\n",
              "    }\n",
              "\n",
              "    .dataframe thead th {\n",
              "        text-align: right;\n",
              "    }\n",
              "</style>\n",
              "<table border=\"1\" class=\"dataframe\">\n",
              "  <thead>\n",
              "    <tr style=\"text-align: right;\">\n",
              "      <th></th>\n",
              "      <th>y_pred</th>\n",
              "      <th>y_test</th>\n",
              "    </tr>\n",
              "  </thead>\n",
              "  <tbody>\n",
              "    <tr>\n",
              "      <th>32</th>\n",
              "      <td>98884.371543</td>\n",
              "      <td>97427.84</td>\n",
              "    </tr>\n",
              "    <tr>\n",
              "      <th>33</th>\n",
              "      <td>100047.235184</td>\n",
              "      <td>96778.92</td>\n",
              "    </tr>\n",
              "    <tr>\n",
              "      <th>47</th>\n",
              "      <td>47766.247901</td>\n",
              "      <td>42559.73</td>\n",
              "    </tr>\n",
              "    <tr>\n",
              "      <th>9</th>\n",
              "      <td>154976.558305</td>\n",
              "      <td>149759.96</td>\n",
              "    </tr>\n",
              "    <tr>\n",
              "      <th>37</th>\n",
              "      <td>91129.087779</td>\n",
              "      <td>89949.14</td>\n",
              "    </tr>\n",
              "    <tr>\n",
              "      <th>8</th>\n",
              "      <td>151755.926389</td>\n",
              "      <td>152211.77</td>\n",
              "    </tr>\n",
              "    <tr>\n",
              "      <th>23</th>\n",
              "      <td>112436.195860</td>\n",
              "      <td>108733.99</td>\n",
              "    </tr>\n",
              "    <tr>\n",
              "      <th>24</th>\n",
              "      <td>113375.898676</td>\n",
              "      <td>108552.04</td>\n",
              "    </tr>\n",
              "    <tr>\n",
              "      <th>17</th>\n",
              "      <td>130706.106786</td>\n",
              "      <td>125370.37</td>\n",
              "    </tr>\n",
              "    <tr>\n",
              "      <th>1</th>\n",
              "      <td>189141.730655</td>\n",
              "      <td>191792.06</td>\n",
              "    </tr>\n",
              "    <tr>\n",
              "      <th>39</th>\n",
              "      <td>85217.422839</td>\n",
              "      <td>81005.76</td>\n",
              "    </tr>\n",
              "    <tr>\n",
              "      <th>22</th>\n",
              "      <td>116952.737156</td>\n",
              "      <td>110352.25</td>\n",
              "    </tr>\n",
              "    <tr>\n",
              "      <th>46</th>\n",
              "      <td>60343.602070</td>\n",
              "      <td>49490.75</td>\n",
              "    </tr>\n",
              "  </tbody>\n",
              "</table>\n",
              "</div>"
            ],
            "text/plain": [
              "           y_pred     y_test\n",
              "32   98884.371543   97427.84\n",
              "33  100047.235184   96778.92\n",
              "47   47766.247901   42559.73\n",
              "9   154976.558305  149759.96\n",
              "37   91129.087779   89949.14\n",
              "8   151755.926389  152211.77\n",
              "23  112436.195860  108733.99\n",
              "24  113375.898676  108552.04\n",
              "17  130706.106786  125370.37\n",
              "1   189141.730655  191792.06\n",
              "39   85217.422839   81005.76\n",
              "22  116952.737156  110352.25\n",
              "46   60343.602070   49490.75"
            ]
          },
          "execution_count": 14,
          "metadata": {},
          "output_type": "execute_result"
        }
      ],
      "source": [
        "pd.DataFrame(d)"
      ]
    }
  ],
  "metadata": {
    "colab": {
      "provenance": [],
      "toc_visible": true
    },
    "kernelspec": {
      "display_name": "Python 3",
      "language": "python",
      "name": "python3"
    },
    "language_info": {
      "codemirror_mode": {
        "name": "ipython",
        "version": 3
      },
      "file_extension": ".py",
      "mimetype": "text/x-python",
      "name": "python",
      "nbconvert_exporter": "python",
      "pygments_lexer": "ipython3",
      "version": "3.10.9"
    }
  },
  "nbformat": 4,
  "nbformat_minor": 0
}
