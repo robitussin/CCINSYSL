{
 "cells": [
  {
   "cell_type": "markdown",
   "metadata": {
    "deletable": true,
    "editable": true
   },
   "source": [
    "# Logistic Regression with Gradient Ascent from Scratch (Handwritten Digits Classification)\n",
    "\n"
   ]
  },
  {
   "cell_type": "markdown",
   "metadata": {
    "deletable": true,
    "editable": true
   },
   "source": [
    "## Gradient Ascent algorithm\n",
    "The equation below is used to update the logistic regression model parameters:    \n",
    "\n",
    "\\begin{equation}\n",
    "\\theta^{+} = \\theta^{-} + \\alpha (y_{i} - h(x_{i}) )\\bar{x}\n",
    "\\end{equation}\n",
    "\n",
    "This maximizes the following log likelihood function\n",
    "\n",
    "\\begin{equation}\n",
    "J(x, \\theta, y) = \\sum_{i=1}^{m}y_i\\log(h(x_{i})) + (1 - y_i)\\log(1 - h(x_{i}))\n",
    "\\end{equation}\n",
    "\n",
    "where our hypothesis is a sigmoid function\n",
    "\\begin{equation}\n",
    "h(x_i) = \\frac{1}{1 + e^{\\theta^T \\bar{x}}}\n",
    "\\end{equation}"
   ]
  },
  {
   "cell_type": "markdown",
   "metadata": {
    "deletable": true,
    "editable": true
   },
   "source": [
    "### Batch gradient Ascent\n",
    "```FOR j FROM 0 -> max_iteration: \n",
    "    FOR i FROM 0 -> m: \n",
    "        theta += (alpha) * (y[i] - h(x[i])) * x_bar\n",
    "    ENDLOOP\n",
    "ENDLOOP\n",
    "```"
   ]
  },
  {
   "cell_type": "markdown",
   "metadata": {
    "deletable": true,
    "editable": true
   },
   "source": [
    "## Multi-class Classification with one-vs-all (one-vs-rest)\n",
    "If you have n-classes, we train n-classifiers and given a new data point we predict using all the classifiers and choose the one with the highest probability"
   ]
  },
  {
   "cell_type": "code",
   "execution_count": 1,
   "metadata": {
    "collapsed": false,
    "deletable": true,
    "editable": true
   },
   "outputs": [],
   "source": [
    "from sklearn.datasets import load_digits\n",
    "from sklearn.model_selection import train_test_split\n",
    "import numpy as np\n",
    "import matplotlib.pyplot as plt"
   ]
  },
  {
   "cell_type": "code",
   "execution_count": 14,
   "metadata": {},
   "outputs": [
    {
     "name": "stdout",
     "output_type": "stream",
     "text": [
      "(1797, 64)\n"
     ]
    }
   ],
   "source": [
    "digits = load_digits()\n",
    "print(digits.data.shape)"
   ]
  },
  {
   "cell_type": "code",
   "execution_count": 24,
   "metadata": {},
   "outputs": [
    {
     "data": {
      "text/plain": [
       "<Figure size 640x480 with 0 Axes>"
      ]
     },
     "metadata": {},
     "output_type": "display_data"
    },
    {
     "data": {
      "image/png": "[encoded data removed]",
      "text/plain": [
       "<Figure size 480x480 with 1 Axes>"
      ]
     },
     "metadata": {},
     "output_type": "display_data"
    }
   ],
   "source": [
    "plt.gray()\n",
    "plt.matshow(digits.images[0])\n",
    "plt.show()"
   ]
  },
  {
   "cell_type": "code",
   "execution_count": 2,
   "metadata": {
    "collapsed": false,
    "deletable": true,
    "editable": true
   },
   "outputs": [
    {
     "data": {
      "image/png": "[encoded data removed]",
      "text/plain": [
       "<Figure size 640x480 with 9 Axes>"
      ]
     },
     "metadata": {},
     "output_type": "display_data"
    }
   ],
   "source": [
    "f, axarr = plt.subplots(3,3)\n",
    "axarr[0,0].imshow(digits.images[0])\n",
    "axarr[0,1].imshow(digits.images[1])\n",
    "axarr[0,2].imshow(digits.images[2])\n",
    "axarr[1,0].imshow(digits.images[3])\n",
    "axarr[1,1].imshow(digits.images[4])\n",
    "axarr[1,2].imshow(digits.images[5])\n",
    "axarr[2,0].imshow(digits.images[6])\n",
    "axarr[2,1].imshow(digits.images[7])\n",
    "axarr[2,2].imshow(digits.images[8])\n",
    "plt.show()"
   ]
  },
  {
   "cell_type": "markdown",
   "metadata": {},
   "source": [
    "## Logistic Regression Class"
   ]
  },
  {
   "cell_type": "code",
   "execution_count": 3,
   "metadata": {
    "collapsed": false,
    "deletable": true,
    "editable": true
   },
   "outputs": [],
   "source": [
    "# Class for training and using a model for logistic regression\n",
    "class LogisticRegression():\n",
    "    \n",
    "    # Set the values for initial params, step size, maximum iteration, and class of interest\n",
    "    def set_values(self, initial_params, alpha=0.01, max_iter=5000, class_of_interest=0):    \n",
    "        self.params = initial_params\n",
    "        self.alpha = alpha\n",
    "        self.max_iter = max_iter\n",
    "        self.class_of_interest = class_of_interest\n",
    "    \n",
    "    @staticmethod\n",
    "    # Sigmoide function\n",
    "    def _sigmoid(x): \n",
    "        return 1.0 / (1.0 + np.exp(-x))\n",
    "    \n",
    "    # predict the probability of a class\n",
    "    def predict(self, x_bar, params):      \n",
    "        return self._sigmoid(np.dot(params, x_bar))\n",
    "    \n",
    "    # Compute the log likelihood cost\n",
    "    def _compute_cost(self, input_var, output_var, params):\n",
    "        cost = 0\n",
    "        for x, y in zip(input_var, output_var):\n",
    "            x_bar = np.array(np.insert(x, 0, 1))\n",
    "            y_hat = self.predict(x_bar, params)\n",
    "            \n",
    "            y_binary = 1.0 if y == self.class_of_interest else 0.0\n",
    "            cost += y_binary * np.log(y_hat) + (1.0 - y_binary) * np.log(1 - y_hat)\n",
    "            \n",
    "        return cost\n",
    "    \n",
    "    # Train the model using batch gradient ascent\n",
    "    def train(self, input_var, label, print_iter = 5000):\n",
    "        iteration = 1\n",
    "        while iteration < self.max_iter:\n",
    "            if iteration % print_iter == 0:\n",
    "                print(f'iteration: {iteration}')\n",
    "                print(f'cost: {self._compute_cost(input_var, label, self.params)}')\n",
    "                print('--------------------------------------------')\n",
    "            \n",
    "            for i, xy in enumerate(zip(input_var, label)):\n",
    "                x_bar = np.array(np.insert(xy[0], 0, 1))\n",
    "                y_hat = self.predict(x_bar, self.params)\n",
    "                \n",
    "                y_binary = 1.0 if xy[1] == self.class_of_interest else 0.0\n",
    "                gradient = (y_binary - y_hat) * x_bar\n",
    "                self.params += self.alpha * gradient\n",
    "            \n",
    "            iteration +=1\n",
    "        \n",
    "        return self.params\n",
    "\n",
    "    # Test the accuracy of the model using test data\n",
    "    def test(self, input_test, label_test):\n",
    "        self.total_classifications = 0\n",
    "        self.correct_classifications = 0\n",
    "        \n",
    "        for x,y in zip(input_test, label_test):\n",
    "            self.total_classifications += 1\n",
    "            x_bar = np.array(np.insert(x, 0, 1))\n",
    "            y_hat = self.predict(x_bar, self.params)\n",
    "            y_binary = 1.0 if y == self.class_of_interest else 0.0\n",
    "            \n",
    "            if y_hat >= 0.5 and  y_binary == 1:\n",
    "                # correct classification of class_of_interest\n",
    "                self.correct_classifications += 1\n",
    "              \n",
    "            if y_hat < 0.5 and  y_binary != 1:\n",
    "                # correct classification of another class\n",
    "                self.correct_classifications += 1\n",
    "                \n",
    "        self.accuracy = self.correct_classifications / self.total_classifications\n",
    "            \n",
    "        return self.accuracy"
   ]
  },
  {
   "cell_type": "markdown",
   "metadata": {},
   "source": [
    "## Model for predicting if an image is a zero (0)"
   ]
  },
  {
   "cell_type": "markdown",
   "metadata": {},
   "source": [
    "### Step 1: Split the dataset into a training and test set"
   ]
  },
  {
   "cell_type": "code",
   "execution_count": 4,
   "metadata": {
    "collapsed": true,
    "deletable": true,
    "editable": true
   },
   "outputs": [],
   "source": [
    "digits_train, digits_test, digits_label_train, digits_label_test =\\\n",
    "train_test_split(digits.data, digits.target, test_size=0.20)"
   ]
  },
  {
   "cell_type": "markdown",
   "metadata": {},
   "source": [
    "### Step 2: Set the hyperparameters"
   ]
  },
  {
   "cell_type": "code",
   "execution_count": null,
   "metadata": {},
   "outputs": [],
   "source": [
    "# Learning rate\n",
    "alpha = 1e-2\n",
    "\n",
    "# Theta\n",
    "params_0 = np.zeros(len(digits.data[0]) + 1)\n",
    "\n",
    "# Number of iterations\n",
    "max_iter = 10000"
   ]
  },
  {
   "cell_type": "markdown",
   "metadata": {},
   "source": [
    "### Step 3: Train the Logistic Regression Model"
   ]
  },
  {
   "cell_type": "code",
   "execution_count": 5,
   "metadata": {
    "collapsed": false,
    "deletable": true,
    "editable": true
   },
   "outputs": [
    {
     "name": "stdout",
     "output_type": "stream",
     "text": [
      "iteration: 1000\n",
      "cost: -1.49145224608174\n",
      "--------------------------------------------\n",
      "iteration: 2000\n",
      "cost: -0.8306701286602193\n",
      "--------------------------------------------\n",
      "iteration: 3000\n",
      "cost: -0.5829094773642394\n",
      "--------------------------------------------\n",
      "iteration: 4000\n",
      "cost: -0.45136140932856605\n",
      "--------------------------------------------\n",
      "iteration: 5000\n",
      "cost: -0.36929908560652647\n",
      "--------------------------------------------\n",
      "iteration: 6000\n",
      "cost: -0.31302859835133723\n",
      "--------------------------------------------\n",
      "iteration: 7000\n",
      "cost: -0.2719533484260614\n",
      "--------------------------------------------\n",
      "iteration: 8000\n",
      "cost: -0.24060433714305232\n",
      "--------------------------------------------\n",
      "iteration: 9000\n",
      "cost: -0.2158663460471675\n",
      "--------------------------------------------\n"
     ]
    }
   ],
   "source": [
    "digits_regression_model_0 = LogisticRegression()\n",
    "digits_regression_model_0.set_values(params_0, alpha, max_iter, 0)\n",
    "\n",
    "params =\\\n",
    "digits_regression_model_0.train(digits_train / 16.0, digits_label_train, 1000)\n"
   ]
  },
  {
   "cell_type": "markdown",
   "metadata": {},
   "source": [
    "### Step 4: Test the Logistic Regression Model"
   ]
  },
  {
   "cell_type": "code",
   "execution_count": 6,
   "metadata": {
    "collapsed": false,
    "deletable": true,
    "editable": true
   },
   "outputs": [
    {
     "name": "stdout",
     "output_type": "stream",
     "text": [
      "Accuracy of prediciting a ZERO digit in test set: 0.9916666666666667\n"
     ]
    }
   ],
   "source": [
    "# accuracy\n",
    "digits_accuracy = digits_regression_model_0.test(digits_test / 16.0, digits_label_test)\n",
    "print(f'Accuracy of prediciting a ZERO digit in test set: {digits_accuracy}')"
   ]
  },
  {
   "cell_type": "markdown",
   "metadata": {},
   "source": [
    "## Model for predicting if an image is a (1)"
   ]
  },
  {
   "cell_type": "markdown",
   "metadata": {},
   "source": [
    "### Step 1: Set the hyperparameters"
   ]
  },
  {
   "cell_type": "code",
   "execution_count": null,
   "metadata": {},
   "outputs": [],
   "source": [
    "# Learning rate\n",
    "alpha = 1e-2\n",
    "\n",
    "# Theta\n",
    "params_0 = np.zeros(len(digits.data[0]) + 1)\n",
    "\n",
    "# Number of iterations\n",
    "max_iter = 10000"
   ]
  },
  {
   "cell_type": "markdown",
   "metadata": {},
   "source": [
    "### Step 2: Train the Logistic Regression Model"
   ]
  },
  {
   "cell_type": "code",
   "execution_count": 7,
   "metadata": {
    "collapsed": false,
    "deletable": true,
    "editable": true
   },
   "outputs": [
    {
     "name": "stdout",
     "output_type": "stream",
     "text": [
      "iteration: 1000\n",
      "cost: -33.899425388208286\n",
      "--------------------------------------------\n",
      "iteration: 2000\n",
      "cost: -27.051531210088005\n",
      "--------------------------------------------\n",
      "iteration: 3000\n",
      "cost: -23.747483219022566\n",
      "--------------------------------------------\n",
      "iteration: 4000\n",
      "cost: -21.647031223330064\n",
      "--------------------------------------------\n",
      "iteration: 5000\n",
      "cost: -20.13600080031068\n",
      "--------------------------------------------\n",
      "iteration: 6000\n",
      "cost: -18.970894970577895\n",
      "--------------------------------------------\n",
      "iteration: 7000\n",
      "cost: -18.03172279485272\n",
      "--------------------------------------------\n",
      "iteration: 8000\n",
      "cost: -17.25080520642663\n",
      "--------------------------------------------\n",
      "iteration: 9000\n",
      "cost: -16.586316965268548\n",
      "--------------------------------------------\n"
     ]
    }
   ],
   "source": [
    "digits_regression_model_1 = LogisticRegression()\n",
    "digits_regression_model_1.set_values(params_0, alpha, max_iter, 1)\n",
    "\n",
    "params =\\\n",
    "digits_regression_model_1.train(digits_train / 16.0, digits_label_train, 1000)"
   ]
  },
  {
   "cell_type": "markdown",
   "metadata": {},
   "source": [
    "### Step 3: Test the Logistic Regression Model"
   ]
  },
  {
   "cell_type": "code",
   "execution_count": 8,
   "metadata": {
    "collapsed": false,
    "deletable": true,
    "editable": true
   },
   "outputs": [
    {
     "name": "stdout",
     "output_type": "stream",
     "text": [
      "Accuracy of prediciting a ONE digit in test set: 0.9861111111111112\n"
     ]
    }
   ],
   "source": [
    "#accuracy\n",
    "digits_accuracy = digits_regression_model_1.test(digits_test / 16.0, digits_label_test)\n",
    "print(f'Accuracy of prediciting a ONE digit in test set: {digits_accuracy}')"
   ]
  },
  {
   "cell_type": "markdown",
   "metadata": {},
   "source": [
    "## Model for predicting if an image is a two (2)"
   ]
  },
  {
   "cell_type": "markdown",
   "metadata": {},
   "source": [
    "### Step 1: Set the hyperparameters"
   ]
  },
  {
   "cell_type": "code",
   "execution_count": null,
   "metadata": {},
   "outputs": [],
   "source": [
    "# Learning rate\n",
    "alpha = 1e-2\n",
    "\n",
    "# Theta\n",
    "params_0 = np.zeros(len(digits.data[0]) + 1)\n",
    "\n",
    "# Number of iterations\n",
    "max_iter = 10000"
   ]
  },
  {
   "cell_type": "markdown",
   "metadata": {},
   "source": [
    "### Step 2: Train the Logistic Regression Model"
   ]
  },
  {
   "cell_type": "code",
   "execution_count": 9,
   "metadata": {
    "collapsed": false,
    "deletable": true,
    "editable": true
   },
   "outputs": [
    {
     "name": "stdout",
     "output_type": "stream",
     "text": [
      "iteration: 1000\n",
      "cost: -3.085419221462016\n",
      "--------------------------------------------\n",
      "iteration: 2000\n",
      "cost: -1.703505149511124\n",
      "--------------------------------------------\n",
      "iteration: 3000\n",
      "cost: -1.190238406945516\n",
      "--------------------------------------------\n",
      "iteration: 4000\n",
      "cost: -0.9190884497602545\n",
      "--------------------------------------------\n",
      "iteration: 5000\n",
      "cost: -0.7505134039613631\n",
      "--------------------------------------------\n",
      "iteration: 6000\n",
      "cost: -0.6352137955374438\n",
      "--------------------------------------------\n",
      "iteration: 7000\n",
      "cost: -0.5512180677378223\n",
      "--------------------------------------------\n",
      "iteration: 8000\n",
      "cost: -0.4872166742966965\n",
      "--------------------------------------------\n",
      "iteration: 9000\n",
      "cost: -0.43678144687809706\n",
      "--------------------------------------------\n"
     ]
    }
   ],
   "source": [
    "digits_regression_model_2 = LogisticRegression()\n",
    "digits_regression_model_2.set_values(params_0, alpha, max_iter, 2)\n",
    "\n",
    "params =\\\n",
    "digits_regression_model_2.train(digits_train / 16.0, digits_label_train, 1000)"
   ]
  },
  {
   "cell_type": "markdown",
   "metadata": {},
   "source": [
    "### Step 3: Test the Logistic Regression Model"
   ]
  },
  {
   "cell_type": "code",
   "execution_count": 10,
   "metadata": {
    "collapsed": false,
    "deletable": true,
    "editable": true
   },
   "outputs": [
    {
     "name": "stdout",
     "output_type": "stream",
     "text": [
      "Accuracy of prediciting a TWO digit in test set: 1.0\n"
     ]
    }
   ],
   "source": [
    "digits_accuracy = digits_regression_model_2.test(digits_test / 16.0, digits_label_test)\n",
    "print(f'Accuracy of prediciting a TWO digit in test set: {digits_accuracy}')"
   ]
  },
  {
   "cell_type": "markdown",
   "metadata": {},
   "source": [
    "## Model for predicting if an image is a eight (8)"
   ]
  },
  {
   "cell_type": "markdown",
   "metadata": {},
   "source": [
    "### Step 1: Set the hyperparameters"
   ]
  },
  {
   "cell_type": "code",
   "execution_count": null,
   "metadata": {},
   "outputs": [],
   "source": [
    "# Learning rate\n",
    "alpha = 1e-2\n",
    "\n",
    "# Theta\n",
    "params_0 = np.zeros(len(digits.data[0]) + 1)\n",
    "\n",
    "# Number of iterations\n",
    "max_iter = 10000"
   ]
  },
  {
   "cell_type": "markdown",
   "metadata": {},
   "source": [
    "### Step 2: Train the Logistic Regression Model"
   ]
  },
  {
   "cell_type": "code",
   "execution_count": 11,
   "metadata": {
    "collapsed": false,
    "deletable": true,
    "editable": true
   },
   "outputs": [
    {
     "name": "stdout",
     "output_type": "stream",
     "text": [
      "iteration: 1000\n",
      "cost: -104.5642194253311\n",
      "--------------------------------------------\n",
      "iteration: 2000\n",
      "cost: -102.41902277133254\n",
      "--------------------------------------------\n",
      "iteration: 3000\n",
      "cost: -101.64224233075014\n",
      "--------------------------------------------\n",
      "iteration: 4000\n",
      "cost: -101.21655586090762\n",
      "--------------------------------------------\n",
      "iteration: 5000\n",
      "cost: -100.92368082132481\n",
      "--------------------------------------------\n",
      "iteration: 6000\n",
      "cost: -100.69258506470024\n",
      "--------------------------------------------\n",
      "iteration: 7000\n",
      "cost: -100.49542320873294\n",
      "--------------------------------------------\n",
      "iteration: 8000\n",
      "cost: -100.31976770920348\n",
      "--------------------------------------------\n",
      "iteration: 9000\n",
      "cost: -100.15937960875796\n",
      "--------------------------------------------\n"
     ]
    }
   ],
   "source": [
    "digits_regression_model_8 = LogisticRegression()\n",
    "digits_regression_model_8.set_values(params_0, alpha, max_iter, 8)\n",
    "\n",
    "params =\\\n",
    "digits_regression_model_8.train(digits_train / 16.0, digits_label_train, 1000)"
   ]
  },
  {
   "cell_type": "markdown",
   "metadata": {},
   "source": [
    "### Step 3: Test the Logistic Regression Model"
   ]
  },
  {
   "cell_type": "code",
   "execution_count": 12,
   "metadata": {
    "collapsed": false,
    "deletable": true,
    "editable": true
   },
   "outputs": [
    {
     "name": "stdout",
     "output_type": "stream",
     "text": [
      "Accuracy of prediciting a EIGHT digit in test set: 0.9638888888888889\n"
     ]
    }
   ],
   "source": [
    "digits_accuracy = digits_regression_model_8.test(digits_test / 16.0, digits_label_test)\n",
    "print(f'Accuracy of prediciting a EIGHT digit in test set: {digits_accuracy}')"
   ]
  }
 ],
 "metadata": {
  "kernelspec": {
   "display_name": "Python 3",
   "language": "python",
   "name": "python3"
  },
  "language_info": {
   "codemirror_mode": {
    "name": "ipython",
    "version": 3
   },
   "file_extension": ".py",
   "mimetype": "text/x-python",
   "name": "python",
   "nbconvert_exporter": "python",
   "pygments_lexer": "ipython3",
   "version": "3.10.9"
  }
 },
 "nbformat": 4,
 "nbformat_minor": 2
}
